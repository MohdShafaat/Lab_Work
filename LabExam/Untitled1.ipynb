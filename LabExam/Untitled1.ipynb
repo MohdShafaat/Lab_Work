{
 "cells": [
  {
   "cell_type": "code",
   "execution_count": 1,
   "id": "108a2296-469f-40de-ba16-20f11eb0e7d2",
   "metadata": {},
   "outputs": [],
   "source": [
    "import pandas as pd\n",
    "import numpy as np"
   ]
  },
  {
   "cell_type": "code",
   "execution_count": 3,
   "id": "6ffd4c4c-44fe-4579-a978-0dfa900e13c9",
   "metadata": {},
   "outputs": [],
   "source": [
    "import itertools as it"
   ]
  },
  {
   "cell_type": "code",
   "execution_count": 19,
   "id": "79c6b0dd-ab08-4d6b-9bc3-bd4316660967",
   "metadata": {},
   "outputs": [
    {
     "data": {
      "text/plain": [
       "[['milk', 'bread', 'butter'],\n",
       " ['milk', 'bread'],\n",
       " ['bread', 'butter'],\n",
       " ['milk', 'bread', 'butter', 'eggs', 'bear'],\n",
       " ['milk', 'bread', 'eggs'],\n",
       " ['butter', 'eggs']]"
      ]
     },
     "execution_count": 19,
     "metadata": {},
     "output_type": "execute_result"
    }
   ],
   "source": [
    "transactions = [\n",
    "    ['milk', 'bread', 'butter'],\n",
    "    ['milk', 'bread'],\n",
    "    ['bread', 'butter'],\n",
    "    ['milk', 'bread', 'butter', 'eggs', 'bear'],\n",
    "    ['milk', 'bread', 'eggs'],\n",
    "    ['butter', 'eggs']\n",
    "]\n",
    "transactions"
   ]
  },
  {
   "cell_type": "code",
   "execution_count": 15,
   "id": "1835d0f2-56e2-4bf8-a663-d383e8bc28fb",
   "metadata": {},
   "outputs": [],
   "source": [
    "itemsets = set(item \n",
    "               for transaction in transactions \n",
    "                   for item in transaction)\n",
    "                 "
   ]
  },
  {
   "cell_type": "code",
   "execution_count": 17,
   "id": "0c032451-66e8-4db6-ae7e-555d7c5ba8d5",
   "metadata": {},
   "outputs": [
    {
     "data": {
      "text/plain": [
       "{'bear', 'bread', 'butter', 'eggs', 'milk'}"
      ]
     },
     "execution_count": 17,
     "metadata": {},
     "output_type": "execute_result"
    }
   ],
   "source": [
    "itemsets"
   ]
  },
  {
   "cell_type": "code",
   "execution_count": 23,
   "id": "cca4b949-871c-40a6-ad14-c03f3148d4ec",
   "metadata": {},
   "outputs": [],
   "source": [
    "min_support = 3\n",
    "min_confidence = 0.6\n",
    "k = 1\n",
    "frequent_itemsets = {}"
   ]
  },
  {
   "cell_type": "code",
   "execution_count": 25,
   "id": "c1d2ecee-b64f-4d60-83d2-918332540a79",
   "metadata": {},
   "outputs": [],
   "source": [
    "def generate_itemsets_length_k(itemsets, k):\n",
    "    return set(it.combinations(itemsets, k))"
   ]
  },
  {
   "cell_type": "code",
   "execution_count": null,
   "id": "c890465a-6400-4afa-b297-6b937212cd0b",
   "metadata": {},
   "outputs": [],
   "source": [
    "def filter_frequent_itemset(transactions, candidates, min_support):\n",
    "    count_itemsets = {}\n",
    "    #iterating\n",
    "    for trans in transactions:\n",
    "        for cand in candidates:\n",
    "            if set(cand).issubset"
   ]
  }
 ],
 "metadata": {
  "kernelspec": {
   "display_name": "Python 3 (ipykernel)",
   "language": "python",
   "name": "python3"
  },
  "language_info": {
   "codemirror_mode": {
    "name": "ipython",
    "version": 3
   },
   "file_extension": ".py",
   "mimetype": "text/x-python",
   "name": "python",
   "nbconvert_exporter": "python",
   "pygments_lexer": "ipython3",
   "version": "3.12.4"
  }
 },
 "nbformat": 4,
 "nbformat_minor": 5
}
